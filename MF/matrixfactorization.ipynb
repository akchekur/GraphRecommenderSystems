{
 "cells": [
  {
   "cell_type": "code",
   "execution_count": 1,
   "metadata": {},
   "outputs": [],
   "source": [
    "# Import libraries\n",
    "from collections import defaultdict\n",
    "import numpy as np\n",
    "from sklearn.metrics import mean_squared_error\n",
    "import sys\n",
    "import time\n",
    "import matplotlib.pyplot as plt\n",
    "import random"
   ]
  },
  {
   "cell_type": "code",
   "execution_count": 2,
   "metadata": {},
   "outputs": [],
   "source": [
    "# Some dataset info\n",
    "n_users = 943\n",
    "n_items = 1682"
   ]
  },
  {
   "cell_type": "markdown",
   "metadata": {},
   "source": [
    "### Read Training Data"
   ]
  },
  {
   "cell_type": "code",
   "execution_count": 4,
   "metadata": {},
   "outputs": [],
   "source": [
    "# Merge ua.base and ub.base to get a single matrix-based training set 'r_train'\n",
    "r_train = np.zeros((n_users, n_items))\n",
    "\n",
    "f = open('ua.base')\n",
    "for l in f:\n",
    "    row = l.split()\n",
    "    r_train[int(row[0])-1][int(row[1])-1] = float(row[2])\n",
    "f.close()"
   ]
  },
  {
   "cell_type": "markdown",
   "metadata": {},
   "source": [
    "### Read Testing Data"
   ]
  },
  {
   "cell_type": "code",
   "execution_count": 5,
   "metadata": {},
   "outputs": [],
   "source": [
    "# Merge ua.test and ub.test to get a single testing set 'r_test'\n",
    "r_test = defaultdict(list)\n",
    "\n",
    "f = open('ua.test')\n",
    "for l in f:\n",
    "    row = l.split()\n",
    "    r_test[row[0]].append((row[1], float(row[2])))\n",
    "f.close()"
   ]
  },
  {
   "cell_type": "markdown",
   "metadata": {},
   "source": [
    "### EDA"
   ]
  },
  {
   "cell_type": "code",
   "execution_count": 26,
   "metadata": {},
   "outputs": [
    {
     "data": {
      "image/png": "[encoded data removed]",
      "text/plain": [
       "<Figure size 432x288 with 1 Axes>"
      ]
     },
     "metadata": {
      "needs_background": "light"
     },
     "output_type": "display_data"
    }
   ],
   "source": [
    "# Plot count for each ratings\n",
    "# List of ratings\n",
    "ratings_list = []\n",
    "\n",
    "# Get counts for each rating in training set\n",
    "for i in range(0, n_users):\n",
    "    for j in range(0, n_items):\n",
    "        if r_train[i][j] > 0:\n",
    "            ratings_list.append(r_train[i][j])\n",
    "# Get counts for each rating in testing set\n",
    "for k in r_test:\n",
    "    for i,r in r_test[k]:\n",
    "        ratings_list.append(r)\n",
    "\n",
    "# Plot the graph\n",
    "arr = plt.hist(ratings_list, bins=[1, 2, 3, 4, 5], edgecolor=\"black\")\n",
    "plt.xlabel('Ratings')\n",
    "plt.ylabel('Count of ratings')\n",
    "plt.title('Count of Ratings (Dataset)')\n",
    "for i in range(0,4):\n",
    "    plt.text(arr[1][i]+0.4,arr[0][i]+500,str(arr[0][i]))\n",
    "plt.show()"
   ]
  },
  {
   "cell_type": "markdown",
   "metadata": {},
   "source": [
    "### Matrix factorization to obtain user and item matrix such that error is minimized"
   ]
  },
  {
   "cell_type": "code",
   "execution_count": 54,
   "metadata": {},
   "outputs": [],
   "source": [
    "# Function to generate user and item latent feature matrix (using gradient descent)\n",
    "def matrix_fact(p,q,lf):\n",
    "    # Some initializations\n",
    "    # Learning Rate\n",
    "    alpha = 0.001\n",
    "    # Regularization coefficient\n",
    "    l = 0.01\n",
    "    # User bias\n",
    "    u_bias = np.zeros(n_users)\n",
    "    # Item bias\n",
    "    i_bias = np.zeros(n_items)\n",
    "    # Global bias\n",
    "    g_bias = np.mean(r_train[np.where(r_train != 0)])\n",
    "    # Number of steps\n",
    "    steps = 40\n",
    "\n",
    "    # Tranpose matrix q\n",
    "    q = q.T\n",
    "\n",
    "    # MSE and step list\n",
    "    MSE_list = []\n",
    "    step_list = []\n",
    "    \n",
    "    for s in range(steps):\n",
    "        # Start time\n",
    "        start = time.time()\n",
    "\n",
    "        # Update values in p and q using gradient descent\n",
    "        for i in range(n_users):\n",
    "            for j in range(n_items):\n",
    "                if r_train[i][j] > 0:\n",
    "                    # Calculate error\n",
    "                    try:\n",
    "                        r_pred = (np.dot(p[i,:],q[:,j]) + u_bias[i] + i_bias[j] + g_bias)\n",
    "                        error = r_train[i][j] - r_pred\n",
    "                    except (IndexError):\n",
    "                            print(i , j)\n",
    "                            sys.exit(1)\n",
    "\n",
    "                    # Calculate gradient and modify the values of p and q\n",
    "                    try:\n",
    "                        p[i,:] += 2 * alpha * (error * q[:,j] - l * p[i,:])\n",
    "                        q[:,j] += 2 * alpha * (error * p[i,:] - l * q[:,j])\n",
    "                    except (IndexError):\n",
    "                        print(i , j , l)\n",
    "                        sys.exit(1)\n",
    "                    \n",
    "                    # Update values of the biases\n",
    "                    u_bias[i] += alpha * (error - l * u_bias[i])\n",
    "                    i_bias[j] += alpha * (error - l * i_bias[j])\n",
    "\n",
    "        # Find MSE and stop training if error is below certain threshold\n",
    "        error_total = 0\n",
    "        count = 0\n",
    "        for i in range(n_users):\n",
    "            for j in range(n_items):\n",
    "                if r_train[i][j] > 0:\n",
    "                    try:\n",
    "                        r_pred = (np.dot(p[i,:],q[:,j]) + u_bias[i] + i_bias[j] + g_bias)\n",
    "                        error_total += pow(r_train[i][j] - r_pred,2)\n",
    "                        count += 1\n",
    "                    except (IndexError):\n",
    "                        print(i , j)\n",
    "                        sys.exit(1)\n",
    "\n",
    "        # Store MSE and step count\n",
    "        MSE_list.append(error_total/count)\n",
    "        step_list.append(s+1)\n",
    "\n",
    "        # End time\n",
    "        end = time.time()\n",
    "\n",
    "        # Total time to complete this epoch\n",
    "        total_time = end - start\n",
    "\n",
    "        # Print time taken to complete this epoch\n",
    "        print(\"Step {} - COMPLETE  |  Time = {} seconds\".format(s+1, total_time))\n",
    "\n",
    "        # If new MSE - old MSE < 0.000001 stop training\n",
    "        if len(MSE_list) >= 2 and MSE_list[-2] - MSE_list[-1] <= 0.000001:\n",
    "            break\n",
    "    \n",
    "    # Plot learning curve\n",
    "    plt.plot(step_list, MSE_list)\n",
    "    plt.xlabel('Iterations (Steps)')\n",
    "    plt.ylabel('MSE')\n",
    "    plt.title('Learning Curve for lf = {}'.format(lf))\n",
    "    plt.show()\n",
    "\n",
    "    # Print final training MSE\n",
    "    print(\"Final training MSE = {}\".format(MSE_list[-1]))\n",
    "\n",
    "    q = q.T\n",
    "\n",
    "    # return the biases and latent factors\n",
    "    return u_bias, i_bias, g_bias, p, q"
   ]
  },
  {
   "cell_type": "markdown",
   "metadata": {},
   "source": [
    "### Testing function"
   ]
  },
  {
   "cell_type": "code",
   "execution_count": 55,
   "metadata": {},
   "outputs": [],
   "source": [
    "# Test the matrix based model on the test set\n",
    "def test_ratings(ratings_pred):\n",
    "    # Actual ratings matrix\n",
    "    r_test_actual = []\n",
    "    # Predicted ratings matrix\n",
    "    r_test_pred = []\n",
    "    \n",
    "    # Create rating and rating_pred matrix\n",
    "    for u,l in r_test.items():\n",
    "        for i in l:\n",
    "            r_test_actual.append(i[1])\n",
    "            r_test_pred.append(ratings_pred[int(u)-1][int(i[0])-1])\n",
    "    \n",
    "    # MSE\n",
    "    print(\"Test MSE = {}\".format(mean_squared_error(r_test_actual, r_test_pred)))"
   ]
  },
  {
   "cell_type": "markdown",
   "metadata": {},
   "source": [
    "### Calling matrix factorization function for different values of latent features (lf)"
   ]
  },
  {
   "cell_type": "code",
   "execution_count": 60,
   "metadata": {},
   "outputs": [
    {
     "name": "stdout",
     "output_type": "stream",
     "text": [
      "\n",
      "\n",
      "Number of latent features lf = 10\n",
      "Step 1 - COMPLETE  |  Time = 3.584303855895996 seconds\n",
      "Step 2 - COMPLETE  |  Time = 3.458815336227417 seconds\n",
      "Step 3 - COMPLETE  |  Time = 3.375845432281494 seconds\n",
      "Step 4 - COMPLETE  |  Time = 3.280216932296753 seconds\n",
      "Step 5 - COMPLETE  |  Time = 3.199023962020874 seconds\n",
      "Step 6 - COMPLETE  |  Time = 3.189173936843872 seconds\n",
      "Step 7 - COMPLETE  |  Time = 3.3055472373962402 seconds\n",
      "Step 8 - COMPLETE  |  Time = 3.1383676528930664 seconds\n",
      "Step 9 - COMPLETE  |  Time = 3.2164053916931152 seconds\n",
      "Step 10 - COMPLETE  |  Time = 3.158534526824951 seconds\n",
      "Step 11 - COMPLETE  |  Time = 3.5484089851379395 seconds\n",
      "Step 12 - COMPLETE  |  Time = 3.5395619869232178 seconds\n",
      "Step 13 - COMPLETE  |  Time = 3.500723123550415 seconds\n",
      "Step 14 - COMPLETE  |  Time = 3.438701868057251 seconds\n",
      "Step 15 - COMPLETE  |  Time = 3.534075975418091 seconds\n",
      "Step 16 - COMPLETE  |  Time = 3.820760726928711 seconds\n",
      "Step 17 - COMPLETE  |  Time = 3.546952486038208 seconds\n",
      "Step 18 - COMPLETE  |  Time = 3.515732765197754 seconds\n",
      "Step 19 - COMPLETE  |  Time = 3.472217082977295 seconds\n",
      "Step 20 - COMPLETE  |  Time = 3.6028592586517334 seconds\n",
      "Step 21 - COMPLETE  |  Time = 3.4117207527160645 seconds\n",
      "Step 22 - COMPLETE  |  Time = 3.4330837726593018 seconds\n",
      "Step 23 - COMPLETE  |  Time = 3.6447784900665283 seconds\n",
      "Step 24 - COMPLETE  |  Time = 3.599487066268921 seconds\n",
      "Step 25 - COMPLETE  |  Time = 3.5604357719421387 seconds\n",
      "Step 26 - COMPLETE  |  Time = 3.6391167640686035 seconds\n",
      "Step 27 - COMPLETE  |  Time = 3.476045608520508 seconds\n",
      "Step 28 - COMPLETE  |  Time = 3.5807809829711914 seconds\n",
      "Step 29 - COMPLETE  |  Time = 3.600240707397461 seconds\n",
      "Step 30 - COMPLETE  |  Time = 3.5382251739501953 seconds\n",
      "Step 31 - COMPLETE  |  Time = 3.56484317779541 seconds\n",
      "Step 32 - COMPLETE  |  Time = 3.5585522651672363 seconds\n",
      "Step 33 - COMPLETE  |  Time = 3.7358880043029785 seconds\n",
      "Step 34 - COMPLETE  |  Time = 3.7853996753692627 seconds\n",
      "Step 35 - COMPLETE  |  Time = 3.6325392723083496 seconds\n",
      "Step 36 - COMPLETE  |  Time = 3.5795247554779053 seconds\n",
      "Step 37 - COMPLETE  |  Time = 3.6988651752471924 seconds\n",
      "Step 38 - COMPLETE  |  Time = 3.4878411293029785 seconds\n",
      "Step 39 - COMPLETE  |  Time = 3.586594820022583 seconds\n",
      "Step 40 - COMPLETE  |  Time = 3.79341459274292 seconds\n"
     ]
    },
    {
     "data": {
      "image/png": "[encoded data removed]",
      "text/plain": [
       "<Figure size 432x288 with 1 Axes>"
      ]
     },
     "metadata": {
      "needs_background": "light"
     },
     "output_type": "display_data"
    },
    {
     "name": "stdout",
     "output_type": "stream",
     "text": [
      "Final training MSE = 0.8494657877490114\n",
      "Test MSE = 0.9044758287728648\n",
      "\n",
      "\n",
      "Number of latent features lf = 15\n",
      "Step 1 - COMPLETE  |  Time = 3.74393367767334 seconds\n",
      "Step 2 - COMPLETE  |  Time = 3.855449914932251 seconds\n",
      "Step 3 - COMPLETE  |  Time = 3.70159912109375 seconds\n",
      "Step 4 - COMPLETE  |  Time = 3.680100202560425 seconds\n",
      "Step 5 - COMPLETE  |  Time = 3.670916795730591 seconds\n",
      "Step 6 - COMPLETE  |  Time = 3.5755374431610107 seconds\n",
      "Step 7 - COMPLETE  |  Time = 3.6217145919799805 seconds\n",
      "Step 8 - COMPLETE  |  Time = 3.7159130573272705 seconds\n",
      "Step 9 - COMPLETE  |  Time = 3.7478272914886475 seconds\n",
      "Step 10 - COMPLETE  |  Time = 3.716961622238159 seconds\n",
      "Step 11 - COMPLETE  |  Time = 3.61413836479187 seconds\n",
      "Step 12 - COMPLETE  |  Time = 3.8871920108795166 seconds\n",
      "Step 13 - COMPLETE  |  Time = 4.591686725616455 seconds\n",
      "Step 14 - COMPLETE  |  Time = 4.572643756866455 seconds\n",
      "Step 15 - COMPLETE  |  Time = 4.54145622253418 seconds\n",
      "Step 16 - COMPLETE  |  Time = 4.562333583831787 seconds\n",
      "Step 17 - COMPLETE  |  Time = 4.087667942047119 seconds\n",
      "Step 18 - COMPLETE  |  Time = 4.272893190383911 seconds\n",
      "Step 19 - COMPLETE  |  Time = 4.24811053276062 seconds\n",
      "Step 20 - COMPLETE  |  Time = 4.953944444656372 seconds\n",
      "Step 21 - COMPLETE  |  Time = 4.051932096481323 seconds\n",
      "Step 22 - COMPLETE  |  Time = 4.487130165100098 seconds\n",
      "Step 23 - COMPLETE  |  Time = 4.584841966629028 seconds\n",
      "Step 24 - COMPLETE  |  Time = 4.0748796463012695 seconds\n",
      "Step 25 - COMPLETE  |  Time = 4.014108657836914 seconds\n",
      "Step 26 - COMPLETE  |  Time = 4.087259769439697 seconds\n",
      "Step 27 - COMPLETE  |  Time = 4.539837121963501 seconds\n",
      "Step 28 - COMPLETE  |  Time = 4.227078437805176 seconds\n",
      "Step 29 - COMPLETE  |  Time = 4.176186561584473 seconds\n",
      "Step 30 - COMPLETE  |  Time = 4.611792325973511 seconds\n",
      "Step 31 - COMPLETE  |  Time = 4.247063636779785 seconds\n",
      "Step 32 - COMPLETE  |  Time = 4.307632207870483 seconds\n",
      "Step 33 - COMPLETE  |  Time = 4.409011602401733 seconds\n",
      "Step 34 - COMPLETE  |  Time = 4.8135435581207275 seconds\n",
      "Step 35 - COMPLETE  |  Time = 5.499844551086426 seconds\n",
      "Step 36 - COMPLETE  |  Time = 5.903485536575317 seconds\n",
      "Step 37 - COMPLETE  |  Time = 5.695188999176025 seconds\n",
      "Step 38 - COMPLETE  |  Time = 4.356530427932739 seconds\n",
      "Step 39 - COMPLETE  |  Time = 4.036330461502075 seconds\n",
      "Step 40 - COMPLETE  |  Time = 3.9905354976654053 seconds\n"
     ]
    },
    {
     "data": {
      "image/png": "[encoded data removed]",
      "text/plain": [
       "<Figure size 432x288 with 1 Axes>"
      ]
     },
     "metadata": {
      "needs_background": "light"
     },
     "output_type": "display_data"
    },
    {
     "name": "stdout",
     "output_type": "stream",
     "text": [
      "Final training MSE = 0.8535592939991616\n",
      "Test MSE = 0.9161864957926522\n",
      "\n",
      "\n",
      "Number of latent features lf = 20\n",
      "Step 1 - COMPLETE  |  Time = 4.896796464920044 seconds\n",
      "Step 2 - COMPLETE  |  Time = 4.838863849639893 seconds\n",
      "Step 3 - COMPLETE  |  Time = 4.6121602058410645 seconds\n",
      "Step 4 - COMPLETE  |  Time = 4.234188079833984 seconds\n",
      "Step 5 - COMPLETE  |  Time = 4.571130275726318 seconds\n",
      "Step 6 - COMPLETE  |  Time = 4.846118927001953 seconds\n",
      "Step 7 - COMPLETE  |  Time = 6.116293907165527 seconds\n",
      "Step 8 - COMPLETE  |  Time = 4.013902187347412 seconds\n",
      "Step 9 - COMPLETE  |  Time = 3.879918098449707 seconds\n",
      "Step 10 - COMPLETE  |  Time = 4.088715076446533 seconds\n",
      "Step 11 - COMPLETE  |  Time = 3.9555068016052246 seconds\n",
      "Step 12 - COMPLETE  |  Time = 3.739799737930298 seconds\n",
      "Step 13 - COMPLETE  |  Time = 3.851229190826416 seconds\n",
      "Step 14 - COMPLETE  |  Time = 3.9460361003875732 seconds\n",
      "Step 15 - COMPLETE  |  Time = 3.8509654998779297 seconds\n",
      "Step 16 - COMPLETE  |  Time = 3.806863784790039 seconds\n",
      "Step 17 - COMPLETE  |  Time = 3.896306276321411 seconds\n",
      "Step 18 - COMPLETE  |  Time = 4.249748706817627 seconds\n",
      "Step 19 - COMPLETE  |  Time = 4.22903847694397 seconds\n",
      "Step 20 - COMPLETE  |  Time = 4.153025388717651 seconds\n",
      "Step 21 - COMPLETE  |  Time = 4.175206184387207 seconds\n",
      "Step 22 - COMPLETE  |  Time = 4.058443307876587 seconds\n",
      "Step 23 - COMPLETE  |  Time = 3.9603824615478516 seconds\n",
      "Step 24 - COMPLETE  |  Time = 3.902081251144409 seconds\n",
      "Step 25 - COMPLETE  |  Time = 3.8978359699249268 seconds\n",
      "Step 26 - COMPLETE  |  Time = 4.2286200523376465 seconds\n",
      "Step 27 - COMPLETE  |  Time = 3.8812642097473145 seconds\n",
      "Step 28 - COMPLETE  |  Time = 3.9829447269439697 seconds\n",
      "Step 29 - COMPLETE  |  Time = 3.8631908893585205 seconds\n",
      "Step 30 - COMPLETE  |  Time = 3.7148990631103516 seconds\n",
      "Step 31 - COMPLETE  |  Time = 3.761045455932617 seconds\n",
      "Step 32 - COMPLETE  |  Time = 3.8560080528259277 seconds\n",
      "Step 33 - COMPLETE  |  Time = 3.7824559211730957 seconds\n",
      "Step 34 - COMPLETE  |  Time = 3.7605419158935547 seconds\n",
      "Step 35 - COMPLETE  |  Time = 3.9159982204437256 seconds\n",
      "Step 36 - COMPLETE  |  Time = 3.843580484390259 seconds\n",
      "Step 37 - COMPLETE  |  Time = 3.9050886631011963 seconds\n",
      "Step 38 - COMPLETE  |  Time = 4.597712993621826 seconds\n",
      "Step 39 - COMPLETE  |  Time = 4.811585903167725 seconds\n",
      "Step 40 - COMPLETE  |  Time = 4.2751405239105225 seconds\n"
     ]
    },
    {
     "data": {
      "image/png": "[encoded data removed]",
      "text/plain": [
       "<Figure size 432x288 with 1 Axes>"
      ]
     },
     "metadata": {
      "needs_background": "light"
     },
     "output_type": "display_data"
    },
    {
     "name": "stdout",
     "output_type": "stream",
     "text": [
      "Final training MSE = 0.8551021293059419\n",
      "Test MSE = 0.9211119958889299\n",
      "\n",
      "\n",
      "Number of latent features lf = 25\n",
      "Step 1 - COMPLETE  |  Time = 4.308621644973755 seconds\n",
      "Step 2 - COMPLETE  |  Time = 4.350365877151489 seconds\n",
      "Step 3 - COMPLETE  |  Time = 4.902857542037964 seconds\n",
      "Step 4 - COMPLETE  |  Time = 4.377052307128906 seconds\n",
      "Step 5 - COMPLETE  |  Time = 4.4660820960998535 seconds\n",
      "Step 6 - COMPLETE  |  Time = 4.308924913406372 seconds\n",
      "Step 7 - COMPLETE  |  Time = 4.286016941070557 seconds\n",
      "Step 8 - COMPLETE  |  Time = 4.388072729110718 seconds\n",
      "Step 9 - COMPLETE  |  Time = 4.365816593170166 seconds\n",
      "Step 10 - COMPLETE  |  Time = 4.584104061126709 seconds\n",
      "Step 11 - COMPLETE  |  Time = 4.565893650054932 seconds\n",
      "Step 12 - COMPLETE  |  Time = 4.328080415725708 seconds\n",
      "Step 13 - COMPLETE  |  Time = 4.509804964065552 seconds\n",
      "Step 14 - COMPLETE  |  Time = 4.387020587921143 seconds\n",
      "Step 15 - COMPLETE  |  Time = 4.5425519943237305 seconds\n",
      "Step 16 - COMPLETE  |  Time = 4.711815357208252 seconds\n",
      "Step 17 - COMPLETE  |  Time = 4.35294771194458 seconds\n",
      "Step 18 - COMPLETE  |  Time = 4.539810419082642 seconds\n",
      "Step 19 - COMPLETE  |  Time = 4.441011667251587 seconds\n",
      "Step 20 - COMPLETE  |  Time = 4.675175905227661 seconds\n",
      "Step 21 - COMPLETE  |  Time = 4.668838262557983 seconds\n",
      "Step 22 - COMPLETE  |  Time = 4.42004919052124 seconds\n",
      "Step 23 - COMPLETE  |  Time = 4.7120680809021 seconds\n",
      "Step 24 - COMPLETE  |  Time = 4.439120769500732 seconds\n",
      "Step 25 - COMPLETE  |  Time = 5.066758155822754 seconds\n",
      "Step 26 - COMPLETE  |  Time = 4.256633758544922 seconds\n",
      "Step 27 - COMPLETE  |  Time = 4.10245943069458 seconds\n",
      "Step 28 - COMPLETE  |  Time = 3.9321296215057373 seconds\n",
      "Step 29 - COMPLETE  |  Time = 3.762523651123047 seconds\n",
      "Step 30 - COMPLETE  |  Time = 3.862111806869507 seconds\n",
      "Step 31 - COMPLETE  |  Time = 3.8681082725524902 seconds\n",
      "Step 32 - COMPLETE  |  Time = 3.7623462677001953 seconds\n",
      "Step 33 - COMPLETE  |  Time = 3.8510191440582275 seconds\n",
      "Step 34 - COMPLETE  |  Time = 3.7469537258148193 seconds\n",
      "Step 35 - COMPLETE  |  Time = 3.7247846126556396 seconds\n",
      "Step 36 - COMPLETE  |  Time = 3.770077705383301 seconds\n",
      "Step 37 - COMPLETE  |  Time = 3.9397811889648438 seconds\n",
      "Step 38 - COMPLETE  |  Time = 4.152447938919067 seconds\n",
      "Step 39 - COMPLETE  |  Time = 4.172879457473755 seconds\n",
      "Step 40 - COMPLETE  |  Time = 3.751559019088745 seconds\n"
     ]
    },
    {
     "data": {
      "image/png": "[encoded data removed]",
      "text/plain": [
       "<Figure size 432x288 with 1 Axes>"
      ]
     },
     "metadata": {
      "needs_background": "light"
     },
     "output_type": "display_data"
    },
    {
     "name": "stdout",
     "output_type": "stream",
     "text": [
      "Final training MSE = 0.8553753366507127\n",
      "Test MSE = 0.9223434331249768\n"
     ]
    }
   ],
   "source": [
    "# List of lf values\n",
    "lf_list = [10, 15, 20, 25]\n",
    "# Metric list\n",
    "met_list = []\n",
    "for lf in lf_list:\n",
    "    # Create feature matrices p(users) and q(items)\n",
    "    p = np.ones(shape=(n_users, lf))\n",
    "    q = np.ones(shape=(n_items, lf))\n",
    "    \n",
    "    # Call factorization function\n",
    "    print(\"\\n\\nNumber of latent features lf = {}\".format(lf))\n",
    "    u_bias, i_bias, g_bias, p, q = matrix_fact(p, q, lf)\n",
    "\n",
    "    # Create the rating matrix from user and item latent feature matrix\n",
    "    ratings_pred = np.zeros((n_users, n_items))\n",
    "\n",
    "    for i in range(n_users):\n",
    "        for j in range(n_items):\n",
    "            ratings_pred[i][j] += np.dot(p[i,:],q[j,:].T) + u_bias[i] + i_bias[j] + g_bias\n",
    "            \n",
    "    # Perform testing (based on ratings)\n",
    "    test_ratings(ratings_pred)"
   ]
  },
  {
   "cell_type": "markdown",
   "metadata": {},
   "source": [
    "### Plot Test MSE vs lf values"
   ]
  },
  {
   "cell_type": "code",
   "execution_count": 61,
   "metadata": {},
   "outputs": [
    {
     "data": {
      "image/png": "[encoded data removed]",
      "text/plain": [
       "<Figure size 432x288 with 1 Axes>"
      ]
     },
     "metadata": {
      "needs_background": "light"
     },
     "output_type": "display_data"
    }
   ],
   "source": [
    "# List of lf values\n",
    "k_list = [10, 15, 20, 25]\n",
    "# List of Test MSE values\n",
    "mse_list = [0.9044758287728648, 0.9161864957926522, 0.9211119958889299, 0.9223434331249768]\n",
    "\n",
    "# Test MSE vs Number of latent factors (lf)\n",
    "plt.plot(k_list, mse_list, color=\"blue\")\n",
    "plt.xlabel(\"Number of latent factors (lf)\")\n",
    "plt.ylabel(\"Test MSE\")\n",
    "plt.title(\"Test MSE vs Number of latent factors (lf)\")\n",
    "plt.show()"
   ]
  },
  {
   "cell_type": "markdown",
   "metadata": {},
   "source": [
    "### Perform matrix factorization for best value of lf (lf=10)"
   ]
  },
  {
   "cell_type": "code",
   "execution_count": 62,
   "metadata": {},
   "outputs": [
    {
     "name": "stdout",
     "output_type": "stream",
     "text": [
      "Step 1 - COMPLETE  |  Time = 3.5014588832855225 seconds\n",
      "Step 2 - COMPLETE  |  Time = 3.537508726119995 seconds\n",
      "Step 3 - COMPLETE  |  Time = 3.8045284748077393 seconds\n",
      "Step 4 - COMPLETE  |  Time = 3.773341178894043 seconds\n",
      "Step 5 - COMPLETE  |  Time = 3.9782156944274902 seconds\n",
      "Step 6 - COMPLETE  |  Time = 3.766623020172119 seconds\n",
      "Step 7 - COMPLETE  |  Time = 3.7166430950164795 seconds\n",
      "Step 8 - COMPLETE  |  Time = 3.640652894973755 seconds\n",
      "Step 9 - COMPLETE  |  Time = 3.5990042686462402 seconds\n",
      "Step 10 - COMPLETE  |  Time = 3.9485487937927246 seconds\n",
      "Step 11 - COMPLETE  |  Time = 3.9937191009521484 seconds\n",
      "Step 12 - COMPLETE  |  Time = 3.5970587730407715 seconds\n",
      "Step 13 - COMPLETE  |  Time = 3.6443448066711426 seconds\n",
      "Step 14 - COMPLETE  |  Time = 3.6280221939086914 seconds\n",
      "Step 15 - COMPLETE  |  Time = 3.526463031768799 seconds\n",
      "Step 16 - COMPLETE  |  Time = 3.720061779022217 seconds\n",
      "Step 17 - COMPLETE  |  Time = 3.679095506668091 seconds\n",
      "Step 18 - COMPLETE  |  Time = 3.621087074279785 seconds\n",
      "Step 19 - COMPLETE  |  Time = 3.577422618865967 seconds\n",
      "Step 20 - COMPLETE  |  Time = 3.6310477256774902 seconds\n",
      "Step 21 - COMPLETE  |  Time = 3.6070308685302734 seconds\n",
      "Step 22 - COMPLETE  |  Time = 3.5666067600250244 seconds\n",
      "Step 23 - COMPLETE  |  Time = 3.8891570568084717 seconds\n",
      "Step 24 - COMPLETE  |  Time = 3.7177438735961914 seconds\n",
      "Step 25 - COMPLETE  |  Time = 3.619920015335083 seconds\n",
      "Step 26 - COMPLETE  |  Time = 3.8301730155944824 seconds\n",
      "Step 27 - COMPLETE  |  Time = 3.689028739929199 seconds\n",
      "Step 28 - COMPLETE  |  Time = 3.6470961570739746 seconds\n",
      "Step 29 - COMPLETE  |  Time = 3.735032796859741 seconds\n",
      "Step 30 - COMPLETE  |  Time = 3.5408947467803955 seconds\n",
      "Step 31 - COMPLETE  |  Time = 4.466552972793579 seconds\n",
      "Step 32 - COMPLETE  |  Time = 3.704676866531372 seconds\n",
      "Step 33 - COMPLETE  |  Time = 3.6314499378204346 seconds\n",
      "Step 34 - COMPLETE  |  Time = 3.554347276687622 seconds\n",
      "Step 35 - COMPLETE  |  Time = 3.871851682662964 seconds\n",
      "Step 36 - COMPLETE  |  Time = 3.881873846054077 seconds\n",
      "Step 37 - COMPLETE  |  Time = 3.9294352531433105 seconds\n",
      "Step 38 - COMPLETE  |  Time = 3.8511295318603516 seconds\n",
      "Step 39 - COMPLETE  |  Time = 3.8116228580474854 seconds\n",
      "Step 40 - COMPLETE  |  Time = 3.790074348449707 seconds\n"
     ]
    },
    {
     "data": {
      "image/png": "[encoded data removed]",
      "text/plain": [
       "<Figure size 432x288 with 1 Axes>"
      ]
     },
     "metadata": {
      "needs_background": "light"
     },
     "output_type": "display_data"
    },
    {
     "name": "stdout",
     "output_type": "stream",
     "text": [
      "Final training MSE = 0.8494657877490114\n"
     ]
    }
   ],
   "source": [
    "# Number of latent features\n",
    "lf = 10\n",
    "\n",
    "# Createfeature matrices p(users) and q(items)\n",
    "p = np.ones(shape=(n_users, lf))\n",
    "q = np.ones(shape=(n_items, lf))\n",
    "\n",
    "# Call factorization function\n",
    "u_bias, i_bias, g_bias, p, q = matrix_fact(p, q, lf=10)"
   ]
  },
  {
   "cell_type": "markdown",
   "metadata": {},
   "source": [
    "### Ratings prediction matrix"
   ]
  },
  {
   "cell_type": "code",
   "execution_count": 42,
   "metadata": {},
   "outputs": [
    {
     "name": "stdout",
     "output_type": "stream",
     "text": [
      "r_train\n",
      "[[5. 3. 4. ... 0. 0. 0.]\n",
      " [4. 0. 0. ... 0. 0. 0.]\n",
      " [0. 0. 0. ... 0. 0. 0.]\n",
      " ...\n",
      " [5. 0. 0. ... 0. 0. 0.]\n",
      " [0. 0. 0. ... 0. 0. 0.]\n",
      " [0. 5. 0. ... 0. 0. 0.]]\n",
      "\n",
      "\n",
      "\n",
      "ratings_pred\n",
      "[[3.82581432 3.34150408 3.40518852 ... 3.32814387 3.33993882 3.72816346]\n",
      " [3.90911763 3.36394202 3.01844665 ... 3.59777816 3.4200105  3.38639585]\n",
      " [3.40441466 2.8777635  2.56093605 ... 3.08628326 2.90685149 2.8770296 ]\n",
      " ...\n",
      " [4.17686807 3.58764265 3.36569166 ... 3.70451516 3.80170643 3.62174701]\n",
      " [4.36739806 3.86280879 3.81295132 ... 3.89549992 3.90638172 4.06152054]\n",
      " [3.62031846 3.12517504 3.09983718 ... 3.20074092 3.09689873 3.57138401]]\n"
     ]
    }
   ],
   "source": [
    "# Create the rating matrix from user and item latent feature matrix\n",
    "ratings_pred = np.zeros((n_users, n_items))\n",
    "\n",
    "for i in range(n_users):\n",
    "    for j in range(n_items):\n",
    "        ratings_pred[i][j] += np.dot(p[i,:],q[j,:].T) + u_bias[i] + i_bias[j] + g_bias\n",
    "\n",
    "# Print r_train and ratings_pred for comparison\n",
    "print(\"r_train\")\n",
    "print(r_train)\n",
    "\n",
    "print(\"\\n\\n\")\n",
    "\n",
    "print(\"ratings_pred\")\n",
    "print(ratings_pred)"
   ]
  },
  {
   "cell_type": "markdown",
   "metadata": {},
   "source": [
    "### Precision, Recall and F1 Score @ K (3,5,10)"
   ]
  },
  {
   "cell_type": "code",
   "execution_count": 197,
   "metadata": {},
   "outputs": [
    {
     "name": "stdout",
     "output_type": "stream",
     "text": [
      "k = 3\n",
      "User - 394  |  Precision@k - 0.3333333333333333  |  Recall@k - 0.3333333333333333  |  F1 score - 0.3333333333333333\n",
      "User - 145  |  Precision@k - 0.3333333333333333  |  Recall@k - 0.3333333333333333  |  F1 score - 0.3333333333333333\n",
      "User - 404  |  Precision@k - 0.6666666666666666  |  Recall@k - 0.6666666666666666  |  F1 score - 0.6666666666666666\n",
      "User - 745  |  Precision@k - 0.3333333333333333  |  Recall@k - 0.3333333333333333  |  F1 score - 0.3333333333333333\n",
      "User - 274  |  Precision@k - 0.3333333333333333  |  Recall@k - 0.3333333333333333  |  F1 score - 0.3333333333333333\n",
      "\n",
      "\n",
      "k = 5\n",
      "User - 394  |  Precision@k - 0.4  |  Recall@k - 0.4  |  F1 score - 0.4000000000000001\n",
      "User - 145  |  Precision@k - 0.6  |  Recall@k - 0.6  |  F1 score - 0.6\n",
      "User - 404  |  Precision@k - 0.4  |  Recall@k - 0.4  |  F1 score - 0.4000000000000001\n",
      "User - 745  |  Precision@k - 0.3333333333333333  |  Recall@k - 0.2  |  F1 score - 0.25\n",
      "User - 274  |  Precision@k - 0.6  |  Recall@k - 0.6  |  F1 score - 0.6\n",
      "\n",
      "\n",
      "k = 10\n",
      "User - 394  |  Precision@k - 0.6  |  Recall@k - 0.6  |  F1 score - 0.6\n",
      "User - 145  |  Precision@k - 0.7777777777777778  |  Recall@k - 0.7  |  F1 score - 0.7368421052631577\n",
      "User - 404  |  Precision@k - 0.8  |  Recall@k - 0.4444444444444444  |  F1 score - 0.5714285714285714\n",
      "User - 745  |  Precision@k - 0.6666666666666666  |  Recall@k - 0.2222222222222222  |  F1 score - 0.3333333333333333\n",
      "User - 274  |  Precision@k - 0.8  |  Recall@k - 0.8  |  F1 score - 0.8000000000000002\n",
      "\n",
      "\n"
     ]
    }
   ],
   "source": [
    "# Threshold for telling which items are relevant and which are recommended\n",
    "thresh = 3.5\n",
    "\n",
    "# K list\n",
    "k_list = [3,5,10]\n",
    "\n",
    "# Sample set of users from test set on which precision and recall is calculated\n",
    "user_set = []\n",
    "for u,l in r_test.items():\n",
    "    if len(l) > 9:\n",
    "        user_set.append(u)\n",
    "user_set = random.sample(user_set, 5)\n",
    "\n",
    "# Dictionary to store precision and recall values\n",
    "pre_rec = defaultdict(list)\n",
    "\n",
    "# For each k in k_list\n",
    "for k in k_list:\n",
    "    # For each user in sampled list\n",
    "    for u in user_set:\n",
    "        # Get top-k rated items in test set\n",
    "        rel_ratings = [p for p in r_test[u]]\n",
    "        rel_ratings = sorted(rel_ratings, key=lambda x:x[1], reverse=True)\n",
    "        rel_ratings = rel_ratings[:k]\n",
    "\n",
    "        # Get top-k unrated items in test set (based on predicted ratings)\n",
    "        rec_ratings = [(i, ratings_pred[int(u)-1][int(i)-1]) for i,_ in r_test[u]]\n",
    "        rec_ratings = sorted(rec_ratings, key=lambda x:x[1], reverse=True)\n",
    "        rec_ratings = rec_ratings[:k]\n",
    "\n",
    "        # Precision@k = (No of recommended items @k that are relevant) / (No of recommended items @k)\n",
    "        num = len(set.intersection(set([i for i,r in rel_ratings if r >= thresh]), set([i for i,r in rec_ratings if r >= thresh])))\n",
    "        den = len([i for i,r in rec_ratings if r >= thresh])\n",
    "        precision = num/den\n",
    "\n",
    "        # Recall@k = (No of recommended items @k that are relevant) / (No of of relevant items @k)\n",
    "        num = len(set.intersection(set([i for i,r in rel_ratings if r >= thresh]), set([i for i,r in rec_ratings if r >= thresh])))\n",
    "        den = len([i for i,r in rel_ratings if r >= thresh])\n",
    "        recall = num/den\n",
    "\n",
    "        # F1 score\n",
    "        f1 = 0\n",
    "        if (precision + recall) != 0:\n",
    "            f1 = (2 * precision * recall)/(precision + recall)\n",
    "\n",
    "        # Append the precision and recall values\n",
    "        pre_rec[k].append((u, precision, recall, f1))\n",
    "\n",
    "# Print the values\n",
    "for k,v in pre_rec.items():\n",
    "    print('k = {}'.format(k))\n",
    "    for u,p,r,f1 in v:\n",
    "        print(\"User - {}  |  Precision@k - {}  |  Recall@k - {}  |  F1 score - {}\".format(u,p,r,f1))\n",
    "    print(\"\\n\")"
   ]
  }
 ],
 "metadata": {
  "kernelspec": {
   "display_name": "Python 3.8.5 64-bit",
   "language": "python",
   "name": "python3"
  },
  "language_info": {
   "codemirror_mode": {
    "name": "ipython",
    "version": 3
   },
   "file_extension": ".py",
   "mimetype": "text/x-python",
   "name": "python",
   "nbconvert_exporter": "python",
   "pygments_lexer": "ipython3",
   "version": "3.8.5"
  },
  "orig_nbformat": 4,
  "vscode": {
   "interpreter": {
    "hash": "8384712f827c73b71ec1d871aaffaaf3604c18a78a335b5adcc2028fc4cb4b02"
   }
  }
 },
 "nbformat": 4,
 "nbformat_minor": 2
}
